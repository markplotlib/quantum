{
 "cells": [
  {
   "cell_type": "markdown",
   "metadata": {},
   "source": [
    "# Eigenvectors and Eigenvalues\n",
    "\n",
    "Given a matrix $A$, the *eigenvectors* are the vectors $|v⟩$ that satisfy this relationship:\n",
    "\n",
    "$A|v⟩ = λ|v⟩$\n",
    "\n",
    "An eigenvalue is the multiplier $λ$ that results.\n",
    "\n",
    "How do we compute eigenvectors and the eigenvalues that correspond?\n",
    "\n",
    "The trick begins with rearranging terms,\n",
    "\n",
    "$A|v⟩ - λ|v⟩ = 0$\n",
    "\n",
    "... and factoring out the eigenvector:\n",
    "\n",
    "$(A - λI)|v⟩ = 0$\n",
    "\n",
    "There is one matrix on the left-hand side: $(A - λI)$.\n",
    "\n",
    "By multiplying both sides by its inverse matrix,\n",
    "$(A - λI)^{-1}$,\n",
    "\n",
    "we get $|v⟩ = 0$.\n",
    "\n",
    "But a null vector for an eigenvector would mean any eigenvalue-matrix combination would satisfy. Thus we want $(A - λI)$ to be *non-invertible*.\n",
    "\n",
    "\n",
    "$M^{-1} = \\frac{1}{det(M)} F(M)$\n",
    "\n",
    "(note that $F(M)$ is some new matrix that depends on $M$)\n",
    "\n",
    "### The inverse of the determinant\n",
    "\n",
    "This is what interests us. If the determinant is zero, then the inverse is undefined. Hence the matrix $M$ is non-invertible!\n",
    "\n",
    "Thus we need this to be true:\n",
    "$det(A - λI) = 0$\n",
    "\n",
    "Then we determine $λ$, and from there, we get the eigenvalues.\n",
    "\n",
    "An example: finding the solutions of the Pauli-Z matrix, $σ_z$\n",
    "\n",
    "$$det(σ_z - λI) = det\\begin{pmatrix} 1 - λ & 0 \\\\ 0 & -1 - λ \\end{pmatrix}$$\n",
    "\n",
    "$$= (-1 - λ)(1 - λ) = 1 - λ^2 = 0 $$\n",
    "\n",
    "$$\\Rightarrow λ=\\pm1$$\n",
    "\n",
    "This equation is the **characteristic polynomial**.\n",
    "\n",
    "If we begin with $λ = 1$:\n",
    "\n",
    "$$\\begin{bmatrix} 1 & 0 \\\\ 0 & -1 \\end{bmatrix}\n",
    "|v\\rangle = |v\\rangle$$\n",
    "\n",
    "$$\\Rightarrow\n",
    "\\begin{bmatrix} 1 & 0 \\\\ 0 & -1 \\end{bmatrix}\n",
    "\\begin{bmatrix} a \\\\ b \\end{bmatrix}\n",
    "= \\begin{bmatrix} a \\\\ b \\end{bmatrix}$$\n",
    "\n",
    "$$\\Rightarrow\n",
    "\\begin{bmatrix} a \\\\ -b \\end{bmatrix}\n",
    "= \\begin{bmatrix} a \\\\ b \\end{bmatrix}$$\n",
    "\n",
    "$a$ can be anything, and $b$ must be zero.\n",
    "The vector $\\begin{bmatrix} 1 \\\\ 0 \\end{bmatrix}$ forms a basis for all vectors. Thus this is the **eigenvector** corresponding to the eigenvalue of $1$.\n",
    "\n",
    "For $λ = -1$, we see that the corresponding eigenvector, which is the basis vector, is $\\begin{bmatrix} 0 \\\\ 1 \\end{bmatrix}$.\n",
    "\n",
    "It turns out that the eigenvectors of the Pauli-Z matrix are the quantum computational basis states $|0⟩$ and $|1⟩$.\n",
    "This is because, when we measure a qubit in the $Z$-basis:\n",
    "\n",
    ">  we are referring to a measurement that collapses the qubit's state into one of the eigenvectors of the Z matrix, either $|0⟩$ or $|1⟩$."
   ]
  },
  {
   "cell_type": "code",
   "execution_count": 3,
   "metadata": {},
   "outputs": [],
   "source": [
    "from matplotlib import pyplot as plt\n",
    "import numpy as np\n",
    "from qiskit import *\n",
    "from qiskit.visualization import plot_bloch_vector"
   ]
  },
  {
   "cell_type": "code",
   "execution_count": 6,
   "metadata": {},
   "outputs": [],
   "source": [
    "PAULI_Z = 'abc'"
   ]
  }
 ],
 "metadata": {
  "kernelspec": {
   "display_name": "Python 3",
   "language": "python",
   "name": "python3"
  },
  "language_info": {
   "codemirror_mode": {
    "name": "ipython",
    "version": 3
   },
   "file_extension": ".py",
   "mimetype": "text/x-python",
   "name": "python",
   "nbconvert_exporter": "python",
   "pygments_lexer": "ipython3",
   "version": "3.7.2"
  }
 },
 "nbformat": 4,
 "nbformat_minor": 2
}
