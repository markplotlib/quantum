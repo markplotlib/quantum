{
 "cells": [
  {
   "cell_type": "markdown",
   "metadata": {},
   "source": [
    "\n",
    "What is an **involutory matrix**?\n",
    "\n",
    "An *involutory matrix* $B$ is characterized so that $B^2 = I$, the identity matrix."
   ]
  },
  {
   "cell_type": "markdown",
   "metadata": {},
   "source": [
    "Review: Taylor Series\n",
    "\n",
    "$$g(x)=\\sum_{n=0}^\\infty f^{(n)}(x_0) \\frac{(x-x_0)^n}{n!}$$\n"
   ]
  },
  {
   "cell_type": "markdown",
   "metadata": {},
   "source": [
    "We can choose $x_0=0$, to simplify the Taylor Series into a Maclaurin series:\n",
    "\n",
    "$$g(x)=\\sum_{n=0}^\\infty f^{(n)}(0) \\frac{x^n}{n!}$$"
   ]
  },
  {
   "cell_type": "markdown",
   "metadata": {},
   "source": [
    "We can further simplify by choosing $f(x)=e^x$, with $e^0=1$:\n",
    "\n",
    "$$g(x)=\\sum_{n=0}^\\infty \\frac{x^n}{n!}=e^x$$"
   ]
  },
  {
   "cell_type": "markdown",
   "metadata": {},
   "source": [
    "Thus, for some matrix $iγH$:\n",
    "\n",
    "$$e^{iγH}=\\sum_{n=0}^\\infty \\frac{(iγH)^n}{n!}$$"
   ]
  },
  {
   "cell_type": "markdown",
   "metadata": {},
   "source": [
    "If we start with an *involutory matrix* $B$, such that $B^2 = I$, then:\n",
    "\n",
    "$$e^{iγB} = cos(γ)I + i * sin(γ)B$$"
   ]
  },
  {
   "cell_type": "markdown",
   "metadata": {},
   "source": [
    "And since $B^2 = I$, we know $B^{2n} = (B^2)^n= I^n = I$\n",
    "\n",
    "and we know $B^{2n+1} = (B^2)^nB= I^nB = IB = B$"
   ]
  },
  {
   "cell_type": "markdown",
   "metadata": {},
   "source": [
    "This equation: __ __ (see qiskit page) __ __\n",
    "\n",
    "is extremely useful in quantum computation. Consider the Pauli matrices:\n",
    "\n",
    "$$σ_x = \n",
    "\\begin{pmatrix}\n",
    "0 & 1 \\\\ \n",
    "1 & 0 \n",
    "\\end{pmatrix}$$\n",
    "\n",
    "$$σ_y = \n",
    "\\begin{pmatrix} \n",
    "0 & i \\\\\n",
    "-i & 0\n",
    "\\end{pmatrix}$$\n",
    "\n",
    "$$σ_z =\n",
    "\\begin{pmatrix}\n",
    "1 & 0 \\\\\n",
    "0 & -1\n",
    "\\end{pmatrix}\n",
    "$$"
   ]
  }
 ],
 "metadata": {
  "kernelspec": {
   "display_name": "Python 3",
   "language": "python",
   "name": "python3"
  },
  "language_info": {
   "codemirror_mode": {
    "name": "ipython",
    "version": 3
   },
   "file_extension": ".py",
   "mimetype": "text/x-python",
   "name": "python",
   "nbconvert_exporter": "python",
   "pygments_lexer": "ipython3",
   "version": "3.7.2"
  }
 },
 "nbformat": 4,
 "nbformat_minor": 2
}
