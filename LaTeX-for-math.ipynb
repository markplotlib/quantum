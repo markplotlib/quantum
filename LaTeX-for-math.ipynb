{
 "cells": [
  {
   "cell_type": "markdown",
   "metadata": {},
   "source": [
    "# LaTeX\n",
    "\n",
    "LaTeX is pronounced «Lah-tech» or «Lay-tech», converting plain text into formatted text. Many things you can do here."
   ]
  },
  {
   "cell_type": "markdown",
   "metadata": {},
   "source": [
    "## Greek letters\n",
    "\n",
    "$\\alpha + \\beta = \\gamma$\n",
    "\n",
    "$\\pi \\approx 3.14159$\n",
    "\n",
    "$\\delta$ and $\\Delta$, $\\Theta$ and $\\theta$, $\\Sigma$\n",
    "\n",
    "statistics: $\\sigma$ and $\\mu$"
   ]
  },
  {
   "cell_type": "markdown",
   "metadata": {},
   "source": [
    "## Geometry\n",
    "\n",
    "Triangle $\\triangle$ ABC\n",
    "\n",
    "$\\angle$ 60\n",
    "\n",
    "$\\sin (x)$\n",
    "\n",
    "I-90 $\\parallel$ I-80\n",
    "\n",
    "I-5 $\\perp$ I-90\n",
    "\n",
    "Angle Sum Identity:\n",
    "\n",
    "$$\\cos(\\alpha \\pm \\beta) = \\cos \\alpha \\cos \\beta \\mp \\sin \\alpha \\sin \\beta $$\n"
   ]
  },
  {
   "cell_type": "markdown",
   "metadata": {},
   "source": [
    "## Operators\n",
    "\n",
    "$24 \\div 4 = 2 \\times 3$\n",
    "\n",
    "$\\frac{y}{x} = c \\dagger$\n",
    "\n",
    "$\\dagger x \\neq 0$\n",
    "\n",
    "**DeMorgan's Law**: $\\neg (A \\lor B) = (\\neg A) \\land (\\neg B)$\n",
    "\n",
    "**Golden Ratio**: $1 < \\Phi \\approx 1.618 < 2$\n",
    "\n",
    "**Quadratic Formula**: $\\frac{-b \\pm \\sqrt{b^2-4ac}}{2a} \\ddagger$ \n",
    "\n",
    "$\\ddagger b^2-4ac$ is called the **discriminant of a polynomial**\n",
    "\n",
    "$a \\leq b$ and $b \\leq c \\rightarrow a \\leq c$\n",
    "\n",
    "Set of cats C $\\subset$ vertebrates V, for cat c $\\in$ cats\n",
    "\n",
    "Fido $\\notin$ C\n",
    "\n",
    "$\\frac{x}{0} = \\infty, \\forall x \\in R$\n",
    "\n",
    "$\\sum_{i=0}^{\\infty}i$"
   ]
  },
  {
   "cell_type": "markdown",
   "metadata": {},
   "source": [
    "$3 \\neq 5 \\dagger$\n",
    "\n",
    "$\\dagger$\n",
    "> \"One ... two ... five--\"\n",
    ">\n",
    "> \"Three, sir!\""
   ]
  },
  {
   "cell_type": "markdown",
   "metadata": {},
   "source": [
    "## Sets and Logic\n",
    "\n",
    "**Mutual Exclusivity**: $A \\cap B = \\emptyset$\n",
    "\n",
    "**Contrapositive**: $P \\Rightarrow Q \\iff \\neg Q \\Rightarrow \\neg P $\n",
    "\n",
    "$\\exists$ some food f, $\\forall$ hungry people P\n",
    "\n",
    "> There exists some food f for all hungry people P."
   ]
  },
  {
   "cell_type": "markdown",
   "metadata": {},
   "source": [
    "## Calculus\n",
    "\n",
    "$$f'(a) = \\lim_{x \\to a} \\frac{f(x) - f(a)}{x-a}$$\n",
    "\n",
    "$$\\int_a^b f(x)$$\n",
    "\n",
    "MacLaurin series for $e^x$: $$ e^x = \\sum_{k=0}^{\\infty} \\frac{x^k}{k!}$$"
   ]
  },
  {
   "cell_type": "markdown",
   "metadata": {},
   "source": [
    "## Matrices\n",
    "\n",
    "$$\\begin{matrix} 1 & 2 & \\dots & 9 \\\\ 10 & 11 & \\dots & 20 \\\\ \\vdots & \\vdots & \\nonumber & \\vdots \\\\ 91 & 92 & \\dots & 100 \\end{matrix}$$\n",
    "\n",
    "Determinant: $$\\det \\begin{pmatrix} a & b \\\\ c & d \\end{pmatrix} = ad-bc$$\n",
    "\n",
    "$$\\left( \\frac{p}{q} \\right)$$"
   ]
  },
  {
   "cell_type": "markdown",
   "metadata": {},
   "source": [
    "## The Equations of James Clerk Maxwell\n",
    "\n",
    "\\begin{equation}\n",
    "\\nabla \\cdot \\vec{E} = \\frac{\\rho}{\\epsilon_0}\\\\\n",
    "\\end{equation}\n",
    "\n",
    "\\begin{eqnarray}\n",
    "\\nabla \\cdot \\vec{B} &=& 0 \n",
    "\\nonumber \\\\\n",
    "\\nabla \\times \\vec{E} &=& - \\frac{\\partial B}{\\partial t} \n",
    "\\nonumber \\\\\n",
    "\\nabla \\times \\vec{B} &=& \\mu_{0}\\vec{J} +\n",
    "\\mu_{0}\\epsilon_{0}\\frac{\\partial E}{\\partial t}\n",
    "\\end{eqnarray}"
   ]
  }
 ],
 "metadata": {
  "kernelspec": {
   "display_name": "Python 3",
   "language": "python",
   "name": "python3"
  },
  "language_info": {
   "codemirror_mode": {
    "name": "ipython",
    "version": 3
   },
   "file_extension": ".py",
   "mimetype": "text/x-python",
   "name": "python",
   "nbconvert_exporter": "python",
   "pygments_lexer": "ipython3",
   "version": "3.7.2"
  }
 },
 "nbformat": 4,
 "nbformat_minor": 2
}
