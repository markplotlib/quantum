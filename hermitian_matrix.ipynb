{
 "cells": [
  {
   "cell_type": "markdown",
   "metadata": {},
   "source": [
    "# Hermitian Matrix\n",
    "\n",
    "To the [Qiskit](https://qiskit.org/) authors, this is:\n",
    "\"necessary to discuss in a study of quantum computation\",\n",
    "even though its importance lies more in the study of quantum mechanics.\n",
    "\n",
    "A **Hermitian matrix** is simply a matrix that is equal to its *conjugate transpose* (denoted with a  †  symbol).\n",
    "\n",
    "What is the **conjugate transpose** of a matrix?\n",
    "\n",
    "This involves two terms, but I'll focus on the procedure, and not the definition:\n",
    "\n",
    "* to obtain the *conjugate* of a matrix A: \n",
    "\n",
    "    * locate any imaginary elements (denoted by *j*) of matrix A. If all elements are real, then you are done and the conjugate of matrix A is matrix A.\n",
    "\n",
    "    * give each imaginary element the opposite sign, i.e. negate it. So *3j* becomes *-3j*.\n",
    "\n",
    "* the *transpose* of a matrix A is simply obtained by:\n",
    "\n",
    "    * locating all elements off its main diagonal\n",
    "    \n",
    "    * reflecting it about its main diagonal"
   ]
  },
  {
   "cell_type": "markdown",
   "metadata": {},
   "source": [
    "Let's build a matrix with complex numbers."
   ]
  },
  {
   "cell_type": "code",
   "execution_count": 1,
   "metadata": {},
   "outputs": [
    {
     "data": {
      "text/plain": [
       "array([[1.+0.j, 0.+1.j],\n",
       "       [0.-1.j, 2.+0.j]])"
      ]
     },
     "execution_count": 1,
     "metadata": {},
     "output_type": "execute_result"
    }
   ],
   "source": [
    "import numpy as np\n",
    "\n",
    "a = np.array([[1, np.complex(0, 1)], [np.complex(0, -1), 2]])\n",
    "a"
   ]
  },
  {
   "cell_type": "markdown",
   "metadata": {},
   "source": [
    "Let's see the conjugate of matrix `a`:"
   ]
  },
  {
   "cell_type": "code",
   "execution_count": 2,
   "metadata": {},
   "outputs": [
    {
     "data": {
      "text/plain": [
       "array([[1.-0.j, 0.-1.j],\n",
       "       [0.+1.j, 2.-0.j]])"
      ]
     },
     "execution_count": 2,
     "metadata": {},
     "output_type": "execute_result"
    }
   ],
   "source": [
    "a.conjugate()"
   ]
  },
  {
   "cell_type": "markdown",
   "metadata": {},
   "source": [
    "Note that the *j* term appears to be negated, even if its value is 0.\n",
    "This is just a display effect; `-0.j` and `+0.j` are equivalent.\n",
    "\n",
    "Now let's see the transpose of matrix `a`:"
   ]
  },
  {
   "cell_type": "code",
   "execution_count": 3,
   "metadata": {},
   "outputs": [
    {
     "data": {
      "text/plain": [
       "array([[1.+0.j, 0.-1.j],\n",
       "       [0.+1.j, 2.+0.j]])"
      ]
     },
     "execution_count": 3,
     "metadata": {},
     "output_type": "execute_result"
    }
   ],
   "source": [
    "a.transpose()"
   ]
  },
  {
   "cell_type": "markdown",
   "metadata": {},
   "source": [
    "Note that the top-right and bottom-left elements chosen here are complex conjugates of one another: thus the transpose of `a` is the conjugate of `a`:"
   ]
  },
  {
   "cell_type": "code",
   "execution_count": 4,
   "metadata": {},
   "outputs": [
    {
     "data": {
      "text/plain": [
       "array([[ True,  True],\n",
       "       [ True,  True]])"
      ]
     },
     "execution_count": 4,
     "metadata": {},
     "output_type": "execute_result"
    }
   ],
   "source": [
    "a.transpose() == a.conjugate()"
   ]
  },
  {
   "cell_type": "markdown",
   "metadata": {},
   "source": [
    "Let's demonstrate this with the *Pauli-Y* quantum gate, which is Hermitian:"
   ]
  },
  {
   "cell_type": "code",
   "execution_count": 5,
   "metadata": {},
   "outputs": [
    {
     "data": {
      "text/plain": [
       "array([[0.+0.j, 0.-1.j],\n",
       "       [0.+1.j, 0.+0.j]])"
      ]
     },
     "execution_count": 5,
     "metadata": {},
     "output_type": "execute_result"
    }
   ],
   "source": [
    "PAULI_Y = np.array([[0, np.complex(0, imag=-1)], [np.complex(0, imag=1), 0]])\n",
    "PAULI_Y"
   ]
  },
  {
   "cell_type": "markdown",
   "metadata": {},
   "source": [
    "Note the main diagonal contains all zeros, the elements on the upper-right triangle each are *-j*, and the lower-left triangle contains all *+j* values.\n",
    "\n",
    "Here's how we know it's Hermitian:"
   ]
  },
  {
   "cell_type": "code",
   "execution_count": 10,
   "metadata": {},
   "outputs": [
    {
     "data": {
      "text/plain": [
       "array([[ True,  True],\n",
       "       [ True,  True]])"
      ]
     },
     "execution_count": 10,
     "metadata": {},
     "output_type": "execute_result"
    }
   ],
   "source": [
    "PAULI_Y == PAULI_Y.conjugate().transpose()"
   ]
  },
  {
   "cell_type": "markdown",
   "metadata": {},
   "source": [
    "Let's apply the Pauli-Y gate to our computational basis state `|0>`"
   ]
  },
  {
   "cell_type": "code",
   "execution_count": 6,
   "metadata": {},
   "outputs": [
    {
     "data": {
      "text/plain": [
       "array([[1],\n",
       "       [0]])"
      ]
     },
     "execution_count": 6,
     "metadata": {},
     "output_type": "execute_result"
    }
   ],
   "source": [
    "basis0 = np.array([[1],[0]])\n",
    "basis0"
   ]
  },
  {
   "cell_type": "code",
   "execution_count": 7,
   "metadata": {},
   "outputs": [
    {
     "data": {
      "text/plain": [
       "array([[0.+0.j],\n",
       "       [0.+1.j]])"
      ]
     },
     "execution_count": 7,
     "metadata": {},
     "output_type": "execute_result"
    }
   ],
   "source": [
    "np.matmul(PAULI_Y, basis0)"
   ]
  },
  {
   "cell_type": "markdown",
   "metadata": {},
   "source": [
    "Note that the top element advanced in phase by 180°, while the bottom advanced by 90°.\n",
    "\n",
    "And to our computational basis state `|1>`,\n",
    "let's also apply the Pauli-Y gate."
   ]
  },
  {
   "cell_type": "code",
   "execution_count": 8,
   "metadata": {},
   "outputs": [
    {
     "data": {
      "text/plain": [
       "array([[0],\n",
       "       [1]])"
      ]
     },
     "execution_count": 8,
     "metadata": {},
     "output_type": "execute_result"
    }
   ],
   "source": [
    "basis1 = np.array([[0],[1]])\n",
    "basis1"
   ]
  },
  {
   "cell_type": "markdown",
   "metadata": {},
   "source": [
    "We *would* expect this to follow the same pattern of the top becoming 1 (+180°) and the bottom becoming *-j* (+90°):"
   ]
  },
  {
   "cell_type": "code",
   "execution_count": 9,
   "metadata": {},
   "outputs": [
    {
     "data": {
      "text/plain": [
       "array([[0.-1.j],\n",
       "       [0.+0.j]])"
      ]
     },
     "execution_count": 9,
     "metadata": {},
     "output_type": "execute_result"
    }
   ],
   "source": [
    "np.matmul(PAULI_Y, basis1)"
   ]
  },
  {
   "cell_type": "markdown",
   "metadata": {},
   "source": [
    "...when in fact, the top shifts by -90° and the bottom advances by +180°."
   ]
  }
 ],
 "metadata": {
  "kernelspec": {
   "display_name": "Python 3",
   "language": "python",
   "name": "python3"
  },
  "language_info": {
   "codemirror_mode": {
    "name": "ipython",
    "version": 3
   },
   "file_extension": ".py",
   "mimetype": "text/x-python",
   "name": "python",
   "nbconvert_exporter": "python",
   "pygments_lexer": "ipython3",
   "version": "3.7.2"
  }
 },
 "nbformat": 4,
 "nbformat_minor": 2
}
