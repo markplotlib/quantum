{
 "cells": [
  {
   "cell_type": "markdown",
   "metadata": {},
   "source": [
    "website: `https://qiskit.org/`\n",
    "\n",
    "page: `https://qiskit.org/textbook/ch-prerequisites/linear_algebra.html`"
   ]
  },
  {
   "cell_type": "markdown",
   "metadata": {},
   "source": [
    "###### Some terms\n",
    "\n",
    "What is a **qubit**?\n",
    "\n",
    "It is a *quantum bit*. In math, it is represented by a\n",
    "*quantum state vector*.\n",
    "\n",
    "What is a **quantum state vector**?\n",
    "\n",
    "A *vector* has magnitude and direction. A *state vector* points to a point in space that corresponds to a particular *quantum state*.\n",
    "\n",
    "What makes quantum states unique and different?\n",
    "\n",
    "They contrast to binary states. In conventional computation (e.g., household computers), a bit holds either a 0 or 1 value. \n",
    "\n",
    "What makes quantum computing so powerful?\n",
    "\n",
    "A *quantum bit* (qubit) can hold many more states than just the binary states."
   ]
  },
  {
   "cell_type": "markdown",
   "metadata": {},
   "source": [
    "How do we perform *quantum computations*?\n",
    "\n",
    "We use a *quantum gate* on a *quantum state vector* (qubit).\n",
    "\n",
    "What is a **quantum gate**?\n",
    "\n",
    "In math, a *quantum gate* is a matrix.\n",
    "\n",
    "Let's see a common example:\n",
    "The *Pauli-X* gate, which behaves like a classical NOT logic gate."
   ]
  },
  {
   "cell_type": "code",
   "execution_count": 4,
   "metadata": {},
   "outputs": [],
   "source": [
    "import numpy as np"
   ]
  },
  {
   "cell_type": "code",
   "execution_count": 33,
   "metadata": {},
   "outputs": [
    {
     "data": {
      "text/plain": [
       "array([[0, 1],\n",
       "       [1, 0]])"
      ]
     },
     "execution_count": 33,
     "metadata": {},
     "output_type": "execute_result"
    }
   ],
   "source": [
    "pauli_x = np.array([[0, 1], [1, 0]])\n",
    "pauli_x"
   ]
  },
  {
   "cell_type": "markdown",
   "metadata": {},
   "source": [
    "Now we have a gate. Let's apply it to some *quantum state vectors* (qubits).\n",
    "\n",
    "create computational basis state `|0>`"
   ]
  },
  {
   "cell_type": "code",
   "execution_count": 34,
   "metadata": {},
   "outputs": [
    {
     "data": {
      "text/plain": [
       "array([[1],\n",
       "       [0]])"
      ]
     },
     "execution_count": 34,
     "metadata": {},
     "output_type": "execute_result"
    }
   ],
   "source": [
    "basis0 = np.array([[1],[0]])\n",
    "basis0"
   ]
  },
  {
   "cell_type": "markdown",
   "metadata": {},
   "source": [
    "create computational basis state `|1>`"
   ]
  },
  {
   "cell_type": "code",
   "execution_count": 31,
   "metadata": {},
   "outputs": [
    {
     "data": {
      "text/plain": [
       "array([[0],\n",
       "       [1]])"
      ]
     },
     "execution_count": 31,
     "metadata": {},
     "output_type": "execute_result"
    }
   ],
   "source": [
    "basis1 = np.array([[0],[1]])\n",
    "basis1"
   ]
  },
  {
   "cell_type": "markdown",
   "metadata": {},
   "source": [
    "Matrix multiplication"
   ]
  },
  {
   "cell_type": "code",
   "execution_count": 35,
   "metadata": {},
   "outputs": [
    {
     "data": {
      "text/plain": [
       "array([[0],\n",
       "       [1]])"
      ]
     },
     "execution_count": 35,
     "metadata": {},
     "output_type": "execute_result"
    }
   ],
   "source": [
    "np.matmul(pauli_x, basis0)"
   ]
  },
  {
   "cell_type": "markdown",
   "metadata": {},
   "source": [
    "We can see that the Pauli-X gate performed the logical NOT: "
   ]
  },
  {
   "cell_type": "code",
   "execution_count": 41,
   "metadata": {},
   "outputs": [
    {
     "data": {
      "text/plain": [
       "array([[ True],\n",
       "       [ True]])"
      ]
     },
     "execution_count": 41,
     "metadata": {},
     "output_type": "execute_result"
    }
   ],
   "source": [
    "product1 = np.matmul(pauli_x, basis0) == basis1\n",
    "product1"
   ]
  },
  {
   "cell_type": "code",
   "execution_count": 43,
   "metadata": {},
   "outputs": [
    {
     "data": {
      "text/plain": [
       "True"
      ]
     },
     "execution_count": 43,
     "metadata": {},
     "output_type": "execute_result"
    }
   ],
   "source": [
    "np.all(product1)"
   ]
  },
  {
   "cell_type": "markdown",
   "metadata": {},
   "source": [
    "The same is true for performing the Pauli-X gate on the `|1>` computational basis vector:"
   ]
  },
  {
   "cell_type": "code",
   "execution_count": 44,
   "metadata": {},
   "outputs": [
    {
     "data": {
      "text/plain": [
       "True"
      ]
     },
     "execution_count": 44,
     "metadata": {},
     "output_type": "execute_result"
    }
   ],
   "source": [
    "np.all(np.matmul(pauli_x, basis1) == basis0)"
   ]
  },
  {
   "cell_type": "code",
   "execution_count": null,
   "metadata": {},
   "outputs": [],
   "source": []
  }
 ],
 "metadata": {
  "kernelspec": {
   "display_name": "Python 3",
   "language": "python",
   "name": "python3"
  },
  "language_info": {
   "codemirror_mode": {
    "name": "ipython",
    "version": 3
   },
   "file_extension": ".py",
   "mimetype": "text/x-python",
   "name": "python",
   "nbconvert_exporter": "python",
   "pygments_lexer": "ipython3",
   "version": "3.7.2"
  }
 },
 "nbformat": 4,
 "nbformat_minor": 2
}
